{
 "cells": [
  {
   "cell_type": "markdown",
   "id": "eb3df04b",
   "metadata": {},
   "source": [
    "### Run qdrant "
   ]
  },
  {
   "cell_type": "code",
   "execution_count": null,
   "id": "9d12ad39",
   "metadata": {},
   "outputs": [],
   "source": [
    "# Locall deploy qdrant db (wsl)\n",
    "\n",
    "# 1. Pull the latest qdrant image\n",
    "# docker pull qdrant/qdrant\n",
    "\n",
    "# 2. Run the container, bind the ports and volume to the current directory\n",
    "# docker run -p 6333:6333 -p 6334:6334 \\\n",
    "#     -v \"$(pwd)/qdrant_storage:/qdrant/storage:z\" \\\n",
    "#     qdrant/qdrant\n",
    "\n",
    "# Access web UI at http://localhost:6333/dashboard\n",
    "\n",
    "# Issue:\n",
    "# After docker compose was created i couldn't retrieve from 00 collection, \n",
    "# needed to create new / or reopload all data to 00 to be able to retrieve from it\n",
    "# Data uploadedd via notebook is not accessible from the container.\n",
    "# To be accessible, we need to upload it via docker compose (see upsert.py) \n",
    "# each time we start the container.\n",
    "# Solution:\n",
    "# Run everything (docker compose, notebook, project store etc.) from within wsl."
   ]
  },
  {
   "cell_type": "code",
   "execution_count": null,
   "id": "6e23e791",
   "metadata": {},
   "outputs": [],
   "source": [
    "# Import qdrant client\n",
    "from qdrant_client import QdrantClient\n",
    "from qdrant_client.models import Distance, VectorParams, PointStruct"
   ]
  },
  {
   "cell_type": "code",
   "execution_count": null,
   "id": "3d22c43b",
   "metadata": {},
   "outputs": [],
   "source": [
    "# Initialize qdrant client pointing to the localhost through rest api\n",
    "qdrant_client = QdrantClient(url=\"http://localhost:6333\")\n",
    "# Dashboard UI: http://localhost:6333/dashboard"
   ]
  },
  {
   "cell_type": "markdown",
   "id": "2da2900b",
   "metadata": {},
   "source": [
    "### Pre-process data"
   ]
  },
  {
   "cell_type": "code",
   "execution_count": null,
   "id": "0260922f",
   "metadata": {},
   "outputs": [],
   "source": [
    "import pandas as pd\n",
    "\n",
    "df_items = pd.read_json('../data/meta_Electronics_2022_2023_with_category_ratings_100_sample_1000.jsonl', lines=True)\n",
    "df_items.head(2).T"
   ]
  },
  {
   "cell_type": "code",
   "execution_count": null,
   "id": "8a392599",
   "metadata": {},
   "outputs": [],
   "source": [
    "# We will use & embeddg into the vector db 3 columns, containing most info about the procuct: \n",
    "# title, decription and features\n",
    "# We need to concatinate them into a single string, and then embedd it\n",
    "\n",
    "def preprocess_data(row):\n",
    "    # return f'{row[\"title\"]} {''.join(row[\"description\"])} {''.join(row[\"features\"])}'\n",
    "     return f'{row[\"title\"]} {''.join(row[\"features\"])}'\n",
    "\n",
    "# New col\n",
    "df_items['preprocessed_data'] = df_items.apply(preprocess_data, axis=1)\n",
    "df_items.head(2).T\n",
    "    "
   ]
  },
  {
   "cell_type": "code",
   "execution_count": null,
   "id": "2edb240e",
   "metadata": {},
   "outputs": [],
   "source": [
    "# Sub sample for dev purpose to make sure everythin works, no need for all data\n",
    "df_sample = df_items.sample(50, random_state=42)\n",
    "print(df_sample.shape)"
   ]
  },
  {
   "cell_type": "markdown",
   "id": "0ab201c2",
   "metadata": {},
   "source": [
    "### Embedding"
   ]
  },
  {
   "cell_type": "code",
   "execution_count": null,
   "id": "a22af4cb",
   "metadata": {},
   "outputs": [],
   "source": [
    "import openai\n",
    "\n",
    "# Embedding function\n",
    "def get_embedding(text, model=\"text-embedding-3-small\"):\n",
    "    response = openai.embeddings.create(\n",
    "        input=[text],\n",
    "        model=model,\n",
    "    )\n",
    "    return response.data[0].embedding\n",
    "\n",
    "# get_embedding(\"What earbuds can you offer?\")"
   ]
  },
  {
   "cell_type": "code",
   "execution_count": null,
   "id": "ab02e04e",
   "metadata": {},
   "outputs": [],
   "source": [
    "# Embed the data by creating  PointStruct\n",
    "data_to_embed = df_sample['preprocessed_data'].tolist()\n",
    "pointstructs = []\n",
    "\n",
    "# Create a list of PointStructs (~18 s for 50 items, of avg length of 500 tokens)\n",
    "# i will be id (one row)\n",
    "for i, data in enumerate(data_to_embed):\n",
    "    embedding = get_embedding(data)\n",
    "    pointstructs.append(\n",
    "        PointStruct(\n",
    "            id=i,\n",
    "            vector=embedding,\n",
    "            payload={\"text\": data}, # what to return in addition to the embedding vector\n",
    "        )\n",
    "    )\n"
   ]
  },
  {
   "cell_type": "code",
   "execution_count": null,
   "id": "9afd4bfc",
   "metadata": {},
   "outputs": [],
   "source": [
    "pointstructs"
   ]
  },
  {
   "cell_type": "code",
   "execution_count": null,
   "id": "412ae5b6",
   "metadata": {},
   "outputs": [],
   "source": [
    "# Print \n",
    "print(pointstructs[0].id)\n",
    "print(pointstructs[0].vector)\n",
    "print(pointstructs[0].payload)"
   ]
  },
  {
   "cell_type": "code",
   "execution_count": null,
   "id": "d3dc8593",
   "metadata": {},
   "outputs": [],
   "source": [
    "len(pointstructs[0].vector)"
   ]
  },
  {
   "cell_type": "markdown",
   "id": "a662543f",
   "metadata": {},
   "source": [
    "### Write to qdrant db"
   ]
  },
  {
   "cell_type": "code",
   "execution_count": null,
   "id": "8b9ca710",
   "metadata": {},
   "outputs": [],
   "source": [
    "# Create an empty collection\n",
    "# Size is the dimension of the vector\n",
    "# It is exactly the same size as what OpenAI's smaller embeddings model returns\n",
    "# Size and Distance cannot be changed after creation, as it decided the indexes\n",
    "qdrant_client.create_collection(\n",
    "    collection_name=\"Amazon-items-collection-00\",\n",
    "    vectors_config=VectorParams(size=1536, distance=Distance.COSINE),\n",
    "    )"
   ]
  },
  {
   "cell_type": "code",
   "execution_count": null,
   "id": "6e3ac9cc",
   "metadata": {},
   "outputs": [],
   "source": [
    "# Upsert (write) the data into the collection\n",
    "qdrant_client.upsert(\n",
    "    collection_name=\"Amazon-items-collection-00\",\n",
    "    points=pointstructs,\n",
    "    wait=True, # until done\n",
    ")"
   ]
  },
  {
   "cell_type": "markdown",
   "id": "8b59794c",
   "metadata": {},
   "source": [
    "### Retrieve data"
   ]
  },
  {
   "cell_type": "code",
   "execution_count": null,
   "id": "2d7d1959",
   "metadata": {},
   "outputs": [],
   "source": [
    "# qdrant_client.collection_exists(collection_name=\"Amazon-items-collection-01\")"
   ]
  },
  {
   "cell_type": "code",
   "execution_count": null,
   "id": "117f006b",
   "metadata": {},
   "outputs": [],
   "source": [
    "# Make a query\n",
    "\n",
    "def retrieve_data(query):\n",
    "    query_embedding = get_embedding(query)\n",
    "    results = qdrant_client.query_points(\n",
    "        collection_name=\"Amazon-items-collection-00\",\n",
    "        query = query_embedding,\n",
    "        limit=10\n",
    "    )\n",
    "    return results\n"
   ]
  },
  {
   "cell_type": "code",
   "execution_count": null,
   "id": "a2eaf101",
   "metadata": {},
   "outputs": [],
   "source": [
    "# Check\n",
    "retrieved_data = retrieve_data(\"what earbuds can I get?\")\n"
   ]
  },
  {
   "cell_type": "code",
   "execution_count": null,
   "id": "2c8d1eaa",
   "metadata": {},
   "outputs": [],
   "source": [
    "retrieved_data.points"
   ]
  },
  {
   "cell_type": "code",
   "execution_count": null,
   "id": "ea6fa874",
   "metadata": {},
   "outputs": [],
   "source": [
    "# Some info\n",
    "print(qdrant_client.embedding_model_name)\n"
   ]
  }
 ],
 "metadata": {
  "kernelspec": {
   "display_name": ".venv",
   "language": "python",
   "name": "python3"
  },
  "language_info": {
   "codemirror_mode": {
    "name": "ipython",
    "version": 3
   },
   "file_extension": ".py",
   "mimetype": "text/x-python",
   "name": "python",
   "nbconvert_exporter": "python",
   "pygments_lexer": "ipython3",
   "version": "3.12.11"
  }
 },
 "nbformat": 4,
 "nbformat_minor": 5
}
