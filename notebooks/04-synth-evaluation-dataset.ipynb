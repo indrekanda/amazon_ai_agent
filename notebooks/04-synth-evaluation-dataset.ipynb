{
 "cells": [
  {
   "cell_type": "markdown",
   "metadata": {},
   "source": [
    "## Evaluation dataset"
   ]
  },
  {
   "cell_type": "code",
   "execution_count": null,
   "metadata": {},
   "outputs": [],
   "source": [
    "from qdrant_client import QdrantClient\n",
    "from qdrant_client.models import Distance, VectorParams, PointStruct\n",
    "\n",
    "import openai\n",
    "import pandas as pd"
   ]
  },
  {
   "cell_type": "markdown",
   "metadata": {},
   "source": [
    "#### Read the sampled dataset with Amazon inventory metadata"
   ]
  },
  {
   "cell_type": "code",
   "execution_count": null,
   "metadata": {},
   "outputs": [],
   "source": [
    "df_items = pd.read_json(\"../data/meta_Electronics_2022_2023_with_category_ratings_100_sample_1000.jsonl\", lines=True)"
   ]
  },
  {
   "cell_type": "markdown",
   "metadata": {},
   "source": [
    "#### Concatenate title and features"
   ]
  },
  {
   "cell_type": "code",
   "execution_count": null,
   "metadata": {},
   "outputs": [],
   "source": [
    "def preprocess_data(row):\n",
    "    return f\"{row['title']} {' '.join(row['features'])}\""
   ]
  },
  {
   "cell_type": "code",
   "execution_count": null,
   "metadata": {},
   "outputs": [],
   "source": [
    "df_items[\"preprocessed_data\"] = df_items.apply(preprocess_data, axis=1)"
   ]
  },
  {
   "cell_type": "markdown",
   "metadata": {},
   "source": [
    "#### Initiate Qdrant client"
   ]
  },
  {
   "cell_type": "code",
   "execution_count": null,
   "metadata": {},
   "outputs": [],
   "source": [
    "# docker pull qdrant/qdrant\n",
    "\n",
    "# docker run -p 6333:6333 -p 6334:6334 \\\n",
    "#     -v \"$(pwd)/qdrant_storage:/qdrant/storage:z\" \\\n",
    "#     qdrant/qdrant\n",
    "\n",
    "# Access web UI at http://localhost:6333/dashboard"
   ]
  },
  {
   "cell_type": "code",
   "execution_count": null,
   "metadata": {},
   "outputs": [],
   "source": [
    "qdrant_client = QdrantClient(url=\"http://localhost:6333\")\n",
    "\n",
    "# qdrant_client.delete_collection(collection_name=\"Amazon-items-collection-01\")\n",
    "qdrant_client.create_collection(\n",
    "    collection_name=\"Amazon-items-collection-01\",\n",
    "    #collection_name=\"Amazon-items-collection-02\",\n",
    "    vectors_config=VectorParams(size=1536, distance=Distance.COSINE),\n",
    ")"
   ]
  },
  {
   "cell_type": "markdown",
   "metadata": {},
   "source": [
    "#### Sample 50 items from the dataset"
   ]
  },
  {
   "cell_type": "code",
   "execution_count": null,
   "metadata": {},
   "outputs": [],
   "source": [
    "df_sample = df_items.sample(n=50, random_state=25)"
   ]
  },
  {
   "cell_type": "markdown",
   "metadata": {},
   "source": [
    "#### Define the embeddings function"
   ]
  },
  {
   "cell_type": "code",
   "execution_count": null,
   "metadata": {},
   "outputs": [],
   "source": [
    "def get_embedding(text, model=\"text-embedding-3-small\"):\n",
    "    response = openai.embeddings.create(\n",
    "        input=[text],\n",
    "        model=model,\n",
    "    )\n",
    "    return response.data[0].embedding"
   ]
  },
  {
   "cell_type": "markdown",
   "metadata": {},
   "source": [
    "#### Embed data"
   ]
  },
  {
   "cell_type": "code",
   "execution_count": null,
   "metadata": {},
   "outputs": [],
   "source": [
    "data_to_embed = df_sample[\"preprocessed_data\"].tolist()\n",
    "pointstructs = []\n",
    "for i, data in enumerate(data_to_embed):\n",
    "    embedding = get_embedding(data)\n",
    "    pointstructs.append(\n",
    "        PointStruct(\n",
    "            id=i,\n",
    "            vector=embedding,\n",
    "            payload={\"text\": data},\n",
    "        )\n",
    "    )"
   ]
  },
  {
   "cell_type": "markdown",
   "metadata": {},
   "source": [
    "#### Write embedded data to Qdrant"
   ]
  },
  {
   "cell_type": "code",
   "execution_count": null,
   "metadata": {},
   "outputs": [],
   "source": [
    "qdrant_client.upsert(\n",
    "    collection_name=\"Amazon-items-collection-01\",\n",
    "    #collection_name=\"Amazon-items-collection-02\",\n",
    "    wait=True,\n",
    "    points=pointstructs,\n",
    ")"
   ]
  },
  {
   "cell_type": "markdown",
   "metadata": {},
   "source": [
    "#### Render a prompt to generate synthetic Eval reference dataset"
   ]
  },
  {
   "cell_type": "code",
   "execution_count": null,
   "metadata": {},
   "outputs": [],
   "source": [
    "import json\n",
    "\n",
    "output_schema = {\n",
    "    \"type\": \"array\",\n",
    "    \"items\": {\n",
    "        \"type\": \"object\",\n",
    "        \"properties\": {\n",
    "            \"question\": {\n",
    "                \"type\": \"string\",\n",
    "                \"description\": \"Suggested question.\",\n",
    "            },\n",
    "            \"chunk_ids\": {\n",
    "                \"type\": \"array\",\n",
    "                \"items\": {\n",
    "                    \"type\": \"integer\",\n",
    "                    \"description\": \"Index of the chunk that could be used to answer the question.\",\n",
    "                },\n",
    "            },\n",
    "            \"answer_example\": {\n",
    "                \"type\": \"string\",\n",
    "                \"description\": \"Suggested answer grounded in the contexr.\",\n",
    "            },\n",
    "            \"reasoning\": {\n",
    "                \"type\": \"string\",\n",
    "                \"description\": \"Reasoning why the question could be answered with the chunks.\",\n",
    "            },\n",
    "        },\n",
    "    },\n",
    "}\n",
    "\n",
    "\n",
    "SYSTEM_PROMPT = f\"\"\"\n",
    "I am building a RAG application. I have a collection of 50 chunks of text.\n",
    "The RAG application will act as a shopping assistant that can answer questions about the stock of the products we have available.\n",
    "I will provide all of the available products to you with indexes of each chunk.\n",
    "I want you to come up with 30 questions to which the answers could be grounded in the chunk context.\n",
    "As an output I need you to provide me the list of questions and the indexes of the chunks that could be used to answer them.\n",
    "Also, provide an example answer to the question given the context of the chunks.\n",
    "Also, provide the reason why you chose the chunks to answer the questions.\n",
    "Try to have a mix of questions that could use multipple chunks and questions that could use single chunk.\n",
    "Also, include 5 questions that can't be answered with the available chunks.\n",
    "\n",
    "<OUTPUT JSON SCHEMA>\n",
    "{json.dumps(output_schema, indent=2)}\n",
    "</OUTPUT JSON SCHEMA>\n",
    "\n",
    "I need to be able to parse the json output.\n",
    "\"\"\"\n",
    "\n",
    "USER_PROMPT = f\"\"\"\n",
    "Here is the list of chunks, each list element is a dictionary with id and text:\n",
    "{[{\"id\": i, \"text\": data} for i, data in enumerate(data_to_embed)]}\n",
    "\"\"\""
   ]
  },
  {
   "cell_type": "code",
   "execution_count": null,
   "metadata": {},
   "outputs": [],
   "source": [
    "print(SYSTEM_PROMPT)"
   ]
  },
  {
   "cell_type": "code",
   "execution_count": null,
   "metadata": {},
   "outputs": [],
   "source": [
    "# Question + all product chunks\n",
    "print(USER_PROMPT)"
   ]
  },
  {
   "cell_type": "markdown",
   "metadata": {},
   "source": [
    "#### Generate synthetic eval reference data"
   ]
  },
  {
   "cell_type": "code",
   "execution_count": null,
   "metadata": {},
   "outputs": [],
   "source": [
    "response = openai.chat.completions.create(\n",
    "    model=\"gpt-4.1\",\n",
    "    messages=[\n",
    "        {\"role\": \"system\", \"content\": SYSTEM_PROMPT},\n",
    "        {\"role\": \"user\", \"content\": USER_PROMPT}\n",
    "    ]\n",
    ")\n",
    "\n",
    "print(response.choices[0].message.content)"
   ]
  },
  {
   "cell_type": "markdown",
   "metadata": {},
   "source": [
    "#### Clean up the output and make it a parseable json"
   ]
  },
  {
   "cell_type": "code",
   "execution_count": null,
   "metadata": {},
   "outputs": [],
   "source": [
    "import json\n",
    "\n",
    "json_output = response.choices[0].message.content\n",
    "json_output = json_output.replace(\"```json\", \"\")\n",
    "json_output = json_output.replace(\"```\", \"\")\n",
    "json_output = json_output.replace(\"// BEGIN UNANSWERABLE QUESTIONS SECTION (5)\", \"\")\n",
    "json_output = json.loads(json_output)"
   ]
  },
  {
   "cell_type": "code",
   "execution_count": null,
   "metadata": {},
   "outputs": [],
   "source": [
    "json_output"
   ]
  },
  {
   "cell_type": "code",
   "execution_count": null,
   "metadata": {},
   "outputs": [],
   "source": [
    "output_json = [{'question': 'Which Bluetooth speakers are available for purchase?',\n",
    "  'chunk_ids': [9, 23, 47],\n",
    "  'answer_example': 'We have several Bluetooth speakers available: the maio Portable Wireless Speaker (30W, IPX67 waterproof, 18-hour playtime), the co2CREA Soft Silicone Case for the Bose SoundLink Flex Bluetooth Portable Speaker, and the Tiksounds Wireless Earbuds with Bluetooth 5.3 and up to 60 hours of playtime.',\n",
    "  'reasoning': 'Chunks 9, 23, and 47 all describe Bluetooth audio speaker products, some portable with waterproof or sports specifications.'},\n",
    " {'question': 'Do you have any products for organizing cables?',\n",
    "  'chunk_ids': [4, 17, 43],\n",
    "  'answer_example': 'Yes, we offer a variety of cable organizing products including tifanso adhesive cable clips (6pcs), 40 pcs silicone cable ties in assorted colors, and ApexOne hook-and-loop reusable cable ties with metal buckles that you can cut to length.',\n",
    "  'reasoning': 'Each of these chunks provides details about cable management items, suitable for office, home, or general organizing.'},\n",
    " {'question': 'Are there any smartwatches or fitness trackers in stock?',\n",
    "  'chunk_ids': [15, 8, 18],\n",
    "  'answer_example': 'We have smartwatches and replacement bands in stock. The CHOKOVIE Smart Watch supports call receiving/dialing, heart rate, and activity tracking. We also offer YAXIN silicone sport bands for Fitbit Versa (various models) and NotoCity silicone bands compatible with Garmin Fenix and other smartwatches.',\n",
    "  'reasoning': 'Chunk 15 describes a smart watch, while 8 and 18 list compatible bands—which may interest customers seeking fitness devices or accessories.'},\n",
    " {'question': 'Is there a digital microscope available?',\n",
    "  'chunk_ids': [19],\n",
    "  'answer_example': 'Yes, we offer the SKYBASIC Wireless Digital Microscope, supporting 50X-1000X magnification, compatible with phones and computers, and perfect for various learning or exploration uses.',\n",
    "  'reasoning': 'Chunk 19 exclusively details a wireless digital microscope, including features and compatibility.'},\n",
    " {'question': 'Can you recommend headphones or earbuds for noise reduction?',\n",
    "  'chunk_ids': [2, 11],\n",
    "  'answer_example': 'We have the Active Noise Cancelling Wireless Earbuds with deep bass and LED display, as well as Hearprotek Sleep Earbuds, specifically designed for comfort and effective noise reduction while sleeping.',\n",
    "  'reasoning': 'Both products in these chunks offer earbuds with noise cancelling or reduction features.'},\n",
    " {'question': 'Are there any Apple MFi certified charging cables or adapters?',\n",
    "  'chunk_ids': [13, 26, 39, 44],\n",
    "  'answer_example': 'Yes, you can find Apple MFi certified products such as Car Apple Carplay Cable (USB A to Lightning), Amaitree Lightning Cable (6ft, nylon braided), a Lightning to 3.5mm Headphone Jack Adapter, and a 1TB USB flash drive compatible with iPhone and iPad.',\n",
    "  'reasoning': 'These products support Apple devices and specifically mention MFi certification or compatibility.'},\n",
    " {'question': 'Are there wireless keyboards or keyboard-mouse combos in stock?',\n",
    "  'chunk_ids': [1, 25, 28],\n",
    "  'answer_example': 'Yes, we have multiple options including the Bluetooth Multi-Device Keyboard (dual channel, rechargeable), the Nasuque Bluetooth Keyboard for Mac OS (supports three devices), and the Samsers Ultra Slim Wireless Keyboard and Mouse Combo, supporting Bluetooth and 2.4G connections.',\n",
    "  'reasoning': 'All listed chunks describe wireless or Bluetooth keyboards, with chunk 28 also including a mouse.'},\n",
    " {'question': 'Do you sell a wireless mouse for gaming?',\n",
    "  'chunk_ids': [5],\n",
    "  'answer_example': 'We offer the Glorious Model D Wireless Gaming Mouse, a superlight ergonomic mouse with RGB lighting, wireless/wired options, and up to 71 hours of playtime.',\n",
    "  'reasoning': 'Chunk 5 describes a gaming wireless mouse, specifically designed for low latency and performance.'},\n",
    " {'question': 'What types of camera accessories or security cameras are available?',\n",
    "  'chunk_ids': [3, 14, 30, 31],\n",
    "  'answer_example': 'Our selection includes the Noonkey 2K/3MP Light Bulb Security Camera (pack of 2), a NEEWER ND Filter Set for DJI Mini 3 drones, the VAIMEST 2K Solar Powered Wireless Outdoor Security Camera, and the Esky 720P HD License Plate Backup Camera.',\n",
    "  'reasoning': 'These chunks contain details about security cameras, backup cameras, and camera accessories.'},\n",
    " {'question': 'Is there a portable storage device or USB flash drive available?',\n",
    "  'chunk_ids': [6, 44],\n",
    "  'answer_example': 'Yes, we have the LinkMore NR34 128GB USB 3.1 Flash Drive with fast read/write speeds, and the ALLBYT iPhone Flash Drive, a 1TB MFi-certified external storage device compatible with iPhone, iPad, and Android.',\n",
    "  'reasoning': 'Both chunks describe portable flash drives with storage capacities and relevant interfaces.'},\n",
    " {'question': 'Are there any products related to car electronics or car audio?',\n",
    "  'chunk_ids': [0, 12, 13, 29, 31],\n",
    "  'answer_example': 'We have multiple car electronics including: LDNIO Bluetooth FM Transmitter (with fast charging and hands-free calls), a Double Din Car Stereo with wireless Carplay/Android Auto, Carplay/charging cables, a Wireless CarPlay Adapter, and the Esky 720P License Plate Backup Camera.',\n",
    "  'reasoning': 'These chunks collectively describe car audio, dashboard electronics, adapters, and camera accessories.'},\n",
    " {'question': 'What devices do you have that are waterproof?',\n",
    "  'chunk_ids': [2, 9, 15, 30, 47, 31],\n",
    "  'answer_example': 'We offer several waterproof devices: Active Noise Cancelling Earbuds (IPX6), maio Bluetooth Speaker (IPX67), CHOKOVIE Smartwatch (IP68), VAIMEST Security Cameras (IP65), Tiksounds Wireless Earbuds (IPX7), and the Esky 720P License Plate Backup Camera (IP67).',\n",
    "  'reasoning': 'Each product in these chunks lists a waterproof rating as a major feature.'},\n",
    " {'question': 'Do you sell any cases or bags for computers, tablets, or laptops?',\n",
    "  'chunk_ids': [20, 24, 35, 23, 41],\n",
    "  'answer_example': 'Yes, our offerings include the YIMIKOL Kids iPad Case (shockproof), ECOSUSI Briefcase for Women (laptop bag), NISHEL Laptop Sleeve (for 13” laptops), co2CREA Soft Silicone Case for Bose SoundLink Flex Speaker, and the Fullant Kids Tablet with a shockproof silicone case.',\n",
    "  'reasoning': 'All products in these chunks are related to protective bags or cases for tech items.'},\n",
    " {'question': 'What kinds of headphones or earphones are available for iPhone?',\n",
    "  'chunk_ids': [2, 22, 39, 47],\n",
    "  'answer_example': 'We offer: Active Noise Cancelling Wireless Earbuds (Bluetooth 5.3, compatible with iPhone), Apple Earbuds Headphones with Lightning Connector, a Lightning to 3.5mm Adapter for using standard headphones with iPhone, and Tiksounds Wireless Earbuds compatible with iPhone.',\n",
    "  'reasoning': 'These chunks include headphone/earbud products explicitly compatible with iPhone, either natively or via adapter.'},\n",
    " {'question': 'Are there any products for network connectivity, such as splitters or hubs?',\n",
    "  'chunk_ids': [16, 36, 37],\n",
    "  'answer_example': 'We have the NOBVEQ RJ45 Ethernet Splitter (1 male to 3 female), a barsone 4-Port USB 3.0 Hub, and Wansurs USB SD Card Readers (with dual slots, 3-pack).',\n",
    "  'reasoning': 'Each of these chunks lists a product designed to connect or expand computer/device ports.'},\n",
    " {'question': 'Which products are geared towards children?',\n",
    "  'chunk_ids': [20, 41],\n",
    "  'answer_example': 'For children, we offer the YIMIKOL shockproof iPad case and the Fullant Kids Tablet (7 inch, kid-proof case, parental controls, educational apps).',\n",
    "  'reasoning': '20 is a kids-proof iPad case, while 41 is a kids tablet with parental control and education features.'},\n",
    " {'question': 'Do you offer any GPS or tracking devices?',\n",
    "  'chunk_ids': [38, 48],\n",
    "  'answer_example': 'Yes, we have the Garmin Edge Explore 2 GPS Cycling Navigator for bikes and also an 8-pack GPS tracker for dogs, kids, and valuables.',\n",
    "  'reasoning': 'These chunks are about GPS navigation (cycling) and small Bluetooth or GPS trackers.'},\n",
    " {'question': 'Are there accessories for drones or aerial photography?',\n",
    "  'chunk_ids': [14],\n",
    "  'answer_example': 'Yes, the NEEWER ND Filter Set is available, compatible with DJI Mini 3/Mini 3 Pro drones, for various lighting and color correction needs.',\n",
    "  'reasoning': 'Chunk 14 is specific to DJI drone lens accessories.'},\n",
    " {'question': 'Are there any products specifically for music lovers or audiophiles?',\n",
    "  'chunk_ids': [46, 49, 33],\n",
    "  'answer_example': 'For music lovers, we offer a Vinyl Record Player Turntable with speakers, the Razer Leviathan V2 X PC soundbar with Chroma RGB, and RGB Gaming Desktop Speakers.',\n",
    "  'reasoning': 'These products are all focused on delivering high-quality music/audio listening experiences.'},\n",
    " {'question': 'Do you have any PC accessories such as monitors or speakers?',\n",
    "  'chunk_ids': [42, 33, 49, 36, 35],\n",
    "  'answer_example': 'Certainly! We offer the LG UltraWide 26-inch monitor with HDR and AMD FreeSync, RGB Gaming Desktop Speakers, Razer Leviathan V2 X PC Soundbar, a barsone 4-Port USB 3.0 Hub, and NISHEL Laptop Sleeve Case.',\n",
    "  'reasoning': 'Monitor and speakers are direct accessories, and the hub and sleeve offer necessary support for a PC setup.'},\n",
    " {'question': 'Can I buy a replacement band for my smartwatch?',\n",
    "  'chunk_ids': [8, 18],\n",
    "  'answer_example': 'Yes, we carry the YAXIN Slim Sport Bands (Fitbit Versa models) and the NotoCity 22mm band for various Garmin Fenix and Forerunner models.',\n",
    "  'reasoning': 'These chunks are dedicated to replacement watch bands for popular smartwatch lines.'},\n",
    " {'question': 'Which products support wireless charging or fast charging?',\n",
    "  'chunk_ids': [0, 2],\n",
    "  'answer_example': 'The Bluetooth Car Adapter from LDNIO supports 43W PD&QC 3.0 fast charging, including USB Type C ports. Our Wireless Earbuds (Bluetooth 5.3) support USB-C fast charging for quick power-ups.',\n",
    "  'reasoning': 'These products explicitly mention fast or USB-C charging capabilities.'},\n",
    " {'question': 'Are there any products for home surveillance or baby monitoring?',\n",
    "  'chunk_ids': [3, 30],\n",
    "  'answer_example': 'Our selection includes Noonkey 2K/3MP Light Bulb Security Cameras (with AI human tracking and color night vision) and the VAIMEST Solar Powered PTZ WiFi Outdoor Camera (pan, tilt, zoom, night vision, two-way audio).',\n",
    "  'reasoning': 'Both are focused on home security with apps and outdoor/indoor options.'},\n",
    " {'question': 'Is there a product that helps in creating or learning about electronics?',\n",
    "  'chunk_ids': [34],\n",
    "  'answer_example': 'Yes, we stock the SunFounder Ultimate Starter Kit (compatible with Arduino UNO), which includes over 87 projects and components for learning IoT, robotics, and programming.',\n",
    "  'reasoning': 'This chunk is specifically an educational electronics kit.'},\n",
    " {'question': 'Are there stands or holders for smart speakers?',\n",
    "  'chunk_ids': [7],\n",
    "  'answer_example': 'We have an LDYAN Owl Holder Stand, suitable for various Echo Dot generations and Google Home Mini/Nest Mini, featuring a stylish design and better sound experience.',\n",
    "  'reasoning': 'This product is dedicated to holding smart speakers.'},\n",
    " {'question': 'Can you suggest a product suitable for video calls or streaming?',\n",
    "  'chunk_ids': [40, 42],\n",
    "  'answer_example': \"Great options include the YINGNUOST 10'' Ring Light with tripod and RGB app-control lighting, and the LG UltraWide 26-inch Monitor, which provides extra screen real estate for calls or streaming.\",\n",
    "  'reasoning': 'Ring lights improve video call/stream visuals, and a wide monitor is useful for multitasking.'},\n",
    " {'question': 'Are there any products for sewing or crafts organization?',\n",
    "  'chunk_ids': [43, 17],\n",
    "  'answer_example': 'We offer ApexOne hook-and-loop straps with metal buckles (cut to length, suitable for sewing and crafts) and 40 pcs silicone cable ties, which can also be used in sewing and DIY projects.',\n",
    "  'reasoning': 'Both cable tie products mention use in crafting and sewing applications.'},\n",
    " {'question': 'Do you sell binoculars or products for concerts and events?',\n",
    "  'chunk_ids': [21],\n",
    "  'answer_example': 'Yes, we carry the Aroncent Portable Binoculars (3x2.5 magnification) designed for theatre, sports, and concerts, with a stylish vintage look.',\n",
    "  'reasoning': 'Chunk 21 is dedicated to compact opera/theatre binoculars.'},\n",
    " {'question': 'Which items support Mac computers or Apple devices?',\n",
    "  'chunk_ids': [1, 25, 26, 35, 39, 44, 22],\n",
    "  'answer_example': 'A wide selection is available: Bluetooth Multi-Device Keyboard, Nasuque Bluetooth Keyboard for Mac OS, Amaitree Lightning Cable, NISHEL Laptop Sleeve for MacBook Air/Pro, Lightning to 3.5mm Adapter, ALLBYT iPhone 1TB Flash Drive, and Apple Earbuds with Lightning Connector.',\n",
    "  'reasoning': 'All these products mention explicit compatibility with Mac or Apple mobile devices.'},\n",
    " {'question': \"Are there any products that can't be answered with the available chunks? (Unanswerable)\",\n",
    "  'chunk_ids': [],\n",
    "  'answer_example': 'Sorry, we do not have any home coffee makers available.',\n",
    "  'reasoning': 'There are no coffee makers described in the product collection.'},\n",
    " {'question': 'Are there any shoes or shoe accessories for sale?',\n",
    "  'chunk_ids': [],\n",
    "  'answer_example': 'We currently do not have any shoes or shoe accessories in our inventory.',\n",
    "  'reasoning': 'None of the provided chunks are about shoes or footwear.'},\n",
    " {'question': 'Do you have any home appliances like vacuum cleaners or blenders?',\n",
    "  'chunk_ids': [],\n",
    "  'answer_example': 'There are no home appliances such as vacuum cleaners or blenders in our product selection.',\n",
    "  'reasoning': 'No chunks refer to kitchen/home appliances like those listed.'},\n",
    " {'question': 'Are there any pet food or pet grooming products?',\n",
    "  'chunk_ids': [],\n",
    "  'answer_example': 'We do not have pet food or pet grooming items, but we do carry pet trackers for safety.',\n",
    "  'reasoning': 'No chunks describe pet food or grooming products; the GPS tracker is for pets but not food/grooming.'},\n",
    " {'question': 'Can I purchase eyeglasses or sunglasses?',\n",
    "  'chunk_ids': [],\n",
    "  'answer_example': 'Currently, we do not offer eyeglasses or sunglasses.',\n",
    "  'reasoning': 'No eyewear is mentioned in any product chunk.'}]"
   ]
  },
  {
   "cell_type": "code",
   "execution_count": null,
   "metadata": {},
   "outputs": [],
   "source": [
    "# Save the dataset\n",
    "import json\n",
    "output_path = '../data/synth_eval_dataset/eval_dataset.json'\n",
    "with open(output_path, 'w') as f:\n",
    "    json.dump(output_json, f)"
   ]
  },
  {
   "cell_type": "markdown",
   "metadata": {},
   "source": [
    "#### Upload the dataset to LangSmith"
   ]
  },
  {
   "cell_type": "code",
   "execution_count": null,
   "metadata": {},
   "outputs": [],
   "source": [
    "from langsmith import Client\n",
    "import os\n",
    "\n",
    "client = Client(api_key=os.environ[\"LANGSMITH_API_KEY\"])\n",
    "\n",
    "dataset_name = \"amazonbe-ai-agent-evaluation-dataset\"\n",
    "dataset = client.create_dataset(\n",
    "    dataset_name=dataset_name,\n",
    "    description=\"Dataset for evaluating RAG pipeline\"\n",
    ")"
   ]
  },
  {
   "cell_type": "code",
   "execution_count": null,
   "metadata": {},
   "outputs": [],
   "source": [
    "for item in json_output:\n",
    "    client.create_example(\n",
    "        dataset_id=dataset.id,\n",
    "        inputs={\"question\": item[\"question\"]},\n",
    "        outputs={\n",
    "            \"ground_truth\": item[\"answer_example\"],\n",
    "            \"context_ids\": item[\"chunk_ids\"],\n",
    "            \"contexts\": [qdrant_client.retrieve(collection_name=\"Amazon-items-collection-01\", ids=[id], with_payload=True)[0].payload[\"text\"] for id in item[\"chunk_ids\"]]\n",
    "        }\n",
    "    )"
   ]
  }
 ],
 "metadata": {
  "kernelspec": {
   "display_name": ".venv",
   "language": "python",
   "name": "python3"
  },
  "language_info": {
   "codemirror_mode": {
    "name": "ipython",
    "version": 3
   },
   "file_extension": ".py",
   "mimetype": "text/x-python",
   "name": "python",
   "nbconvert_exporter": "python",
   "pygments_lexer": "ipython3",
   "version": "3.12.11"
  }
 },
 "nbformat": 4,
 "nbformat_minor": 2
}
