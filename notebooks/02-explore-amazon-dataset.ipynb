{
 "cells": [
  {
   "cell_type": "markdown",
   "metadata": {},
   "source": [
    "# Amazon Reviews dataset, collected in 2023"
   ]
  },
  {
   "cell_type": "markdown",
   "metadata": {},
   "source": [
    "- Official link: https://amazon-reviews-2023.github.io/main.html\n",
    "- Category: Electronics\n",
    "- Users: 18.3M\n",
    "- Items: 1.6M\n",
    "- Ratings: 43.9M\n",
    "- R_Token: 2.7B\n",
    "- M_Token: 1.7B\n",
    "- review: https://mcauleylab.ucsd.edu/public_datasets/data/amazon_2023/raw/review_categories/Electronics.jsonl.gz\n",
    "- meta: https://mcauleylab.ucsd.edu/public_datasets/data/amazon_2023/raw/meta_categories/meta_Electronics.jsonl.gz "
   ]
  },
  {
   "cell_type": "markdown",
   "metadata": {},
   "source": [
    "### Dependencies"
   ]
  },
  {
   "cell_type": "code",
   "execution_count": null,
   "metadata": {},
   "outputs": [],
   "source": [
    "import json\n",
    "import pandas as pd"
   ]
  },
  {
   "cell_type": "markdown",
   "metadata": {},
   "source": [
    "## Sampling\n",
    "---"
   ]
  },
  {
   "cell_type": "markdown",
   "metadata": {},
   "source": [
    "### 1. Filter Items that have been observed for the first time in year 2022 or later."
   ]
  },
  {
   "cell_type": "code",
   "execution_count": null,
   "metadata": {},
   "outputs": [],
   "source": [
    "def filter_data(data: dict) -> dict:\n",
    "    '''Return boolean values, where True means the data is not valid'''\n",
    "    filter = False\n",
    "    if int(data['details']['Date First Available'][-4:]) < 2022:\n",
    "        filter = True\n",
    "\n",
    "    return filter"
   ]
  },
  {
   "cell_type": "code",
   "execution_count": null,
   "metadata": {},
   "outputs": [],
   "source": [
    "with open(\"../data/raw/meta_Electronics.jsonl\", 'r') as fp:\n",
    "    with open(\"../data/meta_Electronics_2022_2023.jsonl\", 'a', encoding='utf-8') as fp_out:\n",
    "        with open(\"../data/drop/meta_Electronics_2022_2023_no_date.jsonl\", 'a', encoding='utf-8') as fp_out_no_date:\n",
    "            i = 0\n",
    "            for line in fp:\n",
    "                data = json.loads(line.strip())\n",
    "                try:\n",
    "                    filter = filter_data(data)\n",
    "                    if not filter:\n",
    "                        json.dump(data, fp_out)\n",
    "                        fp_out.write('\\n')\n",
    "                        fp_out.flush()\n",
    "                except:\n",
    "                    json.dump(data, fp_out_no_date)\n",
    "                    fp_out_no_date.write('\\n')\n",
    "                    fp_out_no_date.flush()\n",
    "                i += 1\n",
    "                if i % 10000 == 0:\n",
    "                    print(f\"Processed {i/1000} k lines\")"
   ]
  },
  {
   "cell_type": "markdown",
   "metadata": {},
   "source": [
    "### 2. Filter Items, where \"main category\" is not empty"
   ]
  },
  {
   "cell_type": "code",
   "execution_count": null,
   "metadata": {},
   "outputs": [],
   "source": [
    "def filter_category(data: dict) -> dict:\n",
    "    '''Return boolean values, where True means the data is not valid'''\n",
    "    filter = False\n",
    "    if data['main_category'] == None:\n",
    "        filter = True\n",
    "\n",
    "    return filter"
   ]
  },
  {
   "cell_type": "code",
   "execution_count": null,
   "metadata": {},
   "outputs": [],
   "source": [
    "with open(\"../data/meta_Electronics_2022_2023.jsonl\", 'r') as fp:\n",
    "    with open(\"../data/meta_Electronics_2022_2023_with_category.jsonl\", 'a', encoding='utf-8') as fp_out:\n",
    "        with open(\"../data/drop/meta_Electronics_2022_2023_no_category.jsonl\", 'a', encoding='utf-8') as fp_out_no_category:\n",
    "            for line in fp:\n",
    "                data = json.loads(line.strip())\n",
    "                if not filter_category(data):\n",
    "                    json.dump(data, fp_out)\n",
    "                    fp_out.write('\\n')\n",
    "                    fp_out.flush()\n",
    "                else:\n",
    "                    json.dump(data, fp_out_no_category)\n",
    "                    fp_out_no_category.write('\\n')\n",
    "                    fp_out_no_category.flush()"
   ]
  },
  {
   "cell_type": "markdown",
   "metadata": {},
   "source": [
    "Explore dsitribution by categories"
   ]
  },
  {
   "cell_type": "code",
   "execution_count": null,
   "metadata": {},
   "outputs": [],
   "source": [
    "df = pd.read_json(\"../data/meta_Electronics_2022_2023_with_category.jsonl\", lines=True)\n",
    "print(df.shape)"
   ]
  },
  {
   "cell_type": "code",
   "execution_count": null,
   "metadata": {},
   "outputs": [],
   "source": [
    "len(df['main_category'].unique()), df['main_category'].unique()"
   ]
  },
  {
   "cell_type": "code",
   "execution_count": null,
   "metadata": {},
   "outputs": [],
   "source": [
    "df['main_category'].value_counts().plot(kind='bar')"
   ]
  },
  {
   "cell_type": "markdown",
   "metadata": {},
   "source": [
    "### Filter out items that have at least 100 ratings"
   ]
  },
  {
   "cell_type": "code",
   "execution_count": null,
   "metadata": {},
   "outputs": [],
   "source": [
    "df_ratings_100 = df[df['rating_number'] > 100]"
   ]
  },
  {
   "cell_type": "markdown",
   "metadata": {},
   "source": [
    "Explore distribution of ratings"
   ]
  },
  {
   "cell_type": "code",
   "execution_count": null,
   "metadata": {},
   "outputs": [],
   "source": [
    "df_ratings_100['average_rating'].plot(kind='hist', bins=50, range=(0, 5))"
   ]
  },
  {
   "cell_type": "markdown",
   "metadata": {},
   "source": [
    "### Sample 1000 items"
   ]
  },
  {
   "cell_type": "code",
   "execution_count": null,
   "metadata": {},
   "outputs": [],
   "source": [
    "df_sample_1000 = df_ratings_100.sample(n=1000, random_state=20)"
   ]
  },
  {
   "cell_type": "code",
   "execution_count": null,
   "metadata": {},
   "outputs": [],
   "source": [
    "df_sample_1000['average_rating'].plot(kind='hist', bins=50, range=(0, 5))"
   ]
  },
  {
   "cell_type": "code",
   "execution_count": null,
   "metadata": {},
   "outputs": [],
   "source": [
    "df_sample_1000['price'].plot(kind='hist', bins=100, range=(0, 500))"
   ]
  },
  {
   "cell_type": "code",
   "execution_count": null,
   "metadata": {},
   "outputs": [],
   "source": [
    "df_ratings_100.to_json(\"../data/meta_Electronics_2022_2023_with_category_ratings_100.jsonl\", orient='records', lines=True)"
   ]
  },
  {
   "cell_type": "code",
   "execution_count": null,
   "metadata": {},
   "outputs": [],
   "source": [
    "df_sample_1000.to_json(\"../data/meta_Electronics_2022_2023_with_category_ratings_100_sample_1000.jsonl\", orient='records', lines=True)"
   ]
  },
  {
   "cell_type": "markdown",
   "metadata": {},
   "source": [
    "## Extract ratings that match sampled data."
   ]
  },
  {
   "cell_type": "code",
   "execution_count": null,
   "metadata": {},
   "outputs": [],
   "source": [
    "df_ratings_100 = pd.read_json(\"../data/meta_Electronics_2022_2023_with_category_ratings_100.jsonl\", lines=True)\n",
    "df_sample_1000 = pd.read_json(\"../data/meta_Electronics_2022_2023_with_category_ratings_100_sample_1000.jsonl\", lines=True)"
   ]
  },
  {
   "cell_type": "code",
   "execution_count": null,
   "metadata": {},
   "outputs": [],
   "source": [
    "# Gabriels suggestion\n",
    "id_set = set(df_ratings_100['parent_asin'].values)\n",
    "\n",
    "with open(\"../data/raw/Electronics.jsonl\", \"r\") as fp, \\\n",
    "     open(\"../data/Electronics_2022_2023_with_category_ratings_100.jsonl\", \"a\", encoding=\"utf-8\") as fp_out:\n",
    "\n",
    "    for i, line in enumerate(fp, 1):\n",
    "        data = json.loads(line.strip())\n",
    "        if data.get('parent_asin') in id_set:\n",
    "            json.dump(data, fp_out)\n",
    "            fp_out.write(\"\\n\")\n",
    "\n",
    "        if i % 100000 == 0:\n",
    "            print(f\"Processed {i/1000} k lines\")"
   ]
  },
  {
   "cell_type": "code",
   "execution_count": null,
   "metadata": {},
   "outputs": [],
   "source": [
    "# with open(\"../data/Electronics.jsonl\", 'r') as fp:\n",
    "#     with open(\"../data/Electornics_2022_2023_with_category_ratings_100.jsonl\", 'a') as fp_out:\n",
    "#         id_list = df_ratings_100['parent_asin'].values\n",
    "#         i = 0\n",
    "#         for line in fp:\n",
    "#             data = json.loads(line.strip())\n",
    "#             if data['parent_asin'] in id_list:\n",
    "#                 json.dump(data, fp_out)\n",
    "#                 fp_out.write('\\n')\n",
    "#                 fp_out.flush()\n",
    "#             i += 1\n",
    "#             if i % 100000 == 0:\n",
    "#                 print(f\"Processed {i} lines\")"
   ]
  },
  {
   "cell_type": "code",
   "execution_count": null,
   "metadata": {},
   "outputs": [],
   "source": [
    "with open(\"../data/Electronics_2022_2023_with_category_ratings_100.jsonl\", 'r') as fp:\n",
    "    with open(\"../data/Electronics_2022_2023_with_category_ratings_100_sample_1000.jsonl\", 'a') as fp_out:\n",
    "        id_list = df_sample_1000['parent_asin'].values\n",
    "        i = 0\n",
    "        for line in fp:\n",
    "            data = json.loads(line.strip())\n",
    "            if data['parent_asin'] in id_list:\n",
    "                json.dump(data, fp_out)\n",
    "                fp_out.write('\\n')\n",
    "                fp_out.flush()\n",
    "            i += 1\n",
    "            if i % 100000 == 0:\n",
    "                print(f\"Processed {i/1000} k lines\")"
   ]
  },
  {
   "cell_type": "markdown",
   "metadata": {},
   "source": [
    "---"
   ]
  },
  {
   "cell_type": "markdown",
   "metadata": {},
   "source": [
    "## Sneak peak"
   ]
  },
  {
   "cell_type": "code",
   "execution_count": null,
   "metadata": {},
   "outputs": [],
   "source": [
    "import pandas as pd\n",
    "import json\n",
    "\n",
    "def read_jsonl_to_dataframe(file_path, max_rows=None):\n",
    "    data = []\n",
    "    with open(file_path, 'r', encoding='utf-8') as file:\n",
    "        for i, line in enumerate(file):\n",
    "            if max_rows and i >= max_rows:\n",
    "                break\n",
    "            data.append(json.loads(line.strip()))\n",
    "    return pd.DataFrame(data)"
   ]
  },
  {
   "cell_type": "code",
   "execution_count": null,
   "metadata": {},
   "outputs": [],
   "source": [
    "file_path_ratings = \"../data/Electronics_2022_2023_with_category_ratings_100_sample_1000.jsonl\"\n",
    "file_path_meta = \"../data/meta_Electronics_2022_2023_with_category_ratings_100_sample_1000.jsonl\"\n",
    "\n",
    "df_ratings = read_jsonl_to_dataframe(file_path_ratings)\n",
    "df_meta = read_jsonl_to_dataframe(file_path_meta)\n"
   ]
  },
  {
   "cell_type": "markdown",
   "metadata": {},
   "source": [
    "### Meta data"
   ]
  },
  {
   "cell_type": "code",
   "execution_count": null,
   "metadata": {},
   "outputs": [],
   "source": [
    "print(df_meta.shape)\n",
    "print(df_meta.columns)\n",
    "display(df_meta.head())"
   ]
  },
  {
   "cell_type": "code",
   "execution_count": null,
   "metadata": {},
   "outputs": [],
   "source": [
    "# Count NAs\n",
    "# 170 prices are missing\n",
    "# features & descriptions mean the same thing\n",
    "print(df_meta.isna().sum())\n",
    "display(df_meta[df_meta['price'].isna()].head(10))"
   ]
  },
  {
   "cell_type": "code",
   "execution_count": null,
   "metadata": {},
   "outputs": [],
   "source": [
    "# Cardinality\n",
    "def calculate_cardinality(series):\n",
    "    try:\n",
    "        return series.nunique()\n",
    "    except TypeError:\n",
    "        # For unhashable types like lists, convert to strings first\n",
    "        return series.astype(str).nunique()\n",
    "\n",
    "# Apply\n",
    "cardinality = df_meta.apply(calculate_cardinality)\n",
    "print(cardinality)"
   ]
  },
  {
   "cell_type": "code",
   "execution_count": null,
   "metadata": {},
   "outputs": [],
   "source": [
    "# Category summary\n",
    "category_counts = df_meta.groupby('main_category').size().sort_values(ascending=False)\n",
    "total_count = category_counts.sum()\n",
    "\n",
    "# Summary df\n",
    "result_df = pd.DataFrame({\n",
    "    'main_category': category_counts.index,\n",
    "    'count': category_counts.values,\n",
    "    'percentage': (category_counts.values / total_count * 100).round(2)\n",
    "})\n",
    "\n",
    "# Example titles\n",
    "example_titles = []\n",
    "for category in result_df['main_category']:\n",
    "    titles = df_meta[df_meta['main_category'] == category]['title'].head(5).tolist()\n",
    "    example_titles.append(' | '.join(titles))\n",
    "result_df['example_titles'] = example_titles\n",
    "\n",
    "display(result_df)"
   ]
  },
  {
   "cell_type": "code",
   "execution_count": null,
   "metadata": {},
   "outputs": [],
   "source": [
    "# Weird categories\n",
    "print(\"Health & Personal Care\")\n",
    "for title in df_meta[df_meta['main_category'] == 'Health & Personal Care'].title:\n",
    "    print(f\"- {title}\")\n",
    "\n",
    "print(\"Sports & Outdoors\")\n",
    "for title in df_meta[df_meta['main_category'] == 'Sports & Outdoors'].title:\n",
    "    print(f\"- {title}\")\n",
    "\n",
    "print(\"Tools & Home Improvement\t\") # mostly cable management and organization accessories\n",
    "for title in df_meta[df_meta['main_category'] == 'Tools & Home Improvement'].title:\n",
    "    print(f\"- {title}\")\n",
    "\n",
    "print(\"Amazon Home\") # mostly stickers\n",
    "for title in df_meta[df_meta['main_category'] == 'Amazon Home'].title:\n",
    "    print(f\"- {title}\")"
   ]
  },
  {
   "cell_type": "code",
   "execution_count": null,
   "metadata": {},
   "outputs": [],
   "source": [
    "import matplotlib.pyplot as plt\n",
    "\n",
    "fig, (ax1, ax2) = plt.subplots(1, 2, figsize=(10, 3))\n",
    "# Price distribution\n",
    "ax1.hist(df_meta['price'].dropna(), bins=50, alpha=0.7, color='skyblue', edgecolor='black')\n",
    "ax1.set_title('Price')\n",
    "ax1.grid(True, alpha=0.3)\n",
    "\n",
    "# Average rating distribution\n",
    "ax2.hist(df_meta['average_rating'].dropna(), bins=20, alpha=0.7, color='lightgreen', edgecolor='black')\n",
    "ax2.set_title('Average rating')\n",
    "ax2.grid(True, alpha=0.3)\n",
    "\n",
    "plt.tight_layout()\n",
    "plt.show()\n",
    "\n",
    "# Some statistics\n",
    "print(\"Price Statistics:\")\n",
    "print(df_meta[['price', 'average_rating']].describe())"
   ]
  },
  {
   "cell_type": "code",
   "execution_count": null,
   "metadata": {},
   "outputs": [],
   "source": [
    "top3_categories = df_meta['main_category'].value_counts().head(3).index\n",
    "\n",
    "for category in top3_categories:\n",
    "    print(\"-\" * 100)\n",
    "    print(f\"Category: {category}\")\n",
    "    \n",
    "    df_category = df_meta[df_meta['main_category'] == category]\n",
    "    fig, (ax1, ax2) = plt.subplots(1, 2, figsize=(10, 3))\n",
    "    \n",
    "    # Price distribution\n",
    "    ax1.hist(df_category['price'].dropna(), bins=50, alpha=0.7, color='skyblue', edgecolor='black')\n",
    "    ax1.set_title('Price')\n",
    "    ax1.grid(True, alpha=0.3)\n",
    "\n",
    "    # Average rating distribution\n",
    "    ax2.hist(df_category['average_rating'].dropna(), bins=20, alpha=0.7, color='lightgreen', edgecolor='black')\n",
    "    ax2.set_title('Average rating')\n",
    "    ax2.grid(True, alpha=0.3)\n",
    "\n",
    "    plt.tight_layout()\n",
    "    plt.show()\n",
    "\n",
    "    # Some statistics\n",
    "    print(\"Price Statistics:\")\n",
    "    print(df_category[['price', 'average_rating']].describe())\n",
    "    print(f\"Most expensive product: {df_category['price'].max()}: {df_category[df_category['price'] == df_category['price'].max()].title.values[0]}\")"
   ]
  },
  {
   "cell_type": "markdown",
   "metadata": {},
   "source": [
    "### Ratings"
   ]
  },
  {
   "cell_type": "code",
   "execution_count": null,
   "metadata": {},
   "outputs": [],
   "source": [
    "print(df_ratings.shape)\n",
    "print(df_ratings.columns)\n",
    "display(df_ratings.head())"
   ]
  },
  {
   "cell_type": "code",
   "execution_count": null,
   "metadata": {},
   "outputs": [],
   "source": [
    "# Count NAs\n",
    "print(df_ratings.isna().sum())"
   ]
  },
  {
   "cell_type": "code",
   "execution_count": null,
   "metadata": {},
   "outputs": [],
   "source": [
    "# Unique users\n",
    "print(df_ratings['user_id'].nunique())\n",
    "\n",
    "# Unique products\n",
    "print(df_ratings['asin'].nunique())\n",
    "\n",
    "# Unique products\n",
    "print(df_ratings['parent_asin'].nunique())\n"
   ]
  },
  {
   "cell_type": "code",
   "execution_count": null,
   "metadata": {},
   "outputs": [],
   "source": [
    "# Count records per parent_asin\n",
    "print(\"Ratings per item (parent)\")\n",
    "print(df_ratings['parent_asin'].value_counts())\n",
    "\n",
    "# Count items with less then 10 ratings\n",
    "print(f\"Items with less then 10 ratings: {df_ratings['parent_asin'].value_counts()[df_ratings['parent_asin'].value_counts() < 10].shape[0]}\")\t"
   ]
  },
  {
   "cell_type": "code",
   "execution_count": null,
   "metadata": {},
   "outputs": [],
   "source": [
    "# Counts of each parent_asin\n",
    "asin_counts = df_ratings['parent_asin'].value_counts()\n",
    "\n",
    "# Intervals \n",
    "bins = [0, 9, 49, 99, 499, 999, 1999, 2999, 3999, 4999, float('inf')]\n",
    "labels = ['1-9', '10-49', '50-99', '100-499', '500-999', '1000-1999', '2000-2999', '3000-3999', '4000-4999', '5000+']\n",
    "interval_counts = pd.cut(asin_counts, bins=bins, labels=labels, include_lowest=True).value_counts().sort_index()\n",
    "\n",
    "# To df\n",
    "intervals_df = pd.DataFrame({\n",
    "    'interval_of_number_of_ratings': interval_counts.index,\n",
    "    'number_of_items': interval_counts.values,\n",
    "    'percentage_of_items': (interval_counts.values / interval_counts.sum() * 100).round(2)\n",
    "})\n",
    "\n",
    "display(intervals_df)"
   ]
  },
  {
   "cell_type": "code",
   "execution_count": null,
   "metadata": {},
   "outputs": [],
   "source": [
    "# Filter items with most ratings\n",
    "df_ratings_filtered = df_ratings[df_ratings['parent_asin'].isin(df_ratings['parent_asin'].value_counts()[df_ratings['parent_asin'].value_counts() > 3000].index)]\n",
    "\n",
    "print('Items with most ratings (3000+)')\n",
    "# Count unique users\n",
    "print(f\"- Number of records: {df_ratings_filtered.shape[0]}\")\n",
    "print(f\"- Number of users: {df_ratings_filtered['user_id'].nunique()}\")\n",
    "print(f\"- Number of items (parent): {df_ratings_filtered['parent_asin'].nunique()}\")\n",
    "print(f\"- Number of ratings: {df_ratings_filtered['asin'].nunique()}\")\n",
    "\n",
    "print(\"Ratings per item (parent) in most rated items (3000+)\")\n",
    "# Ratings per item\n",
    "print(df_ratings_filtered['parent_asin'].value_counts())"
   ]
  },
  {
   "cell_type": "code",
   "execution_count": null,
   "metadata": {},
   "outputs": [],
   "source": [
    "# Most rated item\n",
    "display(df_meta[df_meta['parent_asin']=='B0C7Q3X76Q'])\n",
    "print(df_ratings[df_ratings['parent_asin']=='B0C7Q3X76Q'].shape)\n",
    "display(df_ratings[df_ratings['parent_asin']=='B0C7Q3X76Q'])"
   ]
  }
 ],
 "metadata": {
  "kernelspec": {
   "display_name": ".venv",
   "language": "python",
   "name": "python3"
  },
  "language_info": {
   "codemirror_mode": {
    "name": "ipython",
    "version": 3
   },
   "file_extension": ".py",
   "mimetype": "text/x-python",
   "name": "python",
   "nbconvert_exporter": "python",
   "pygments_lexer": "ipython3",
   "version": "3.12.11"
  }
 },
 "nbformat": 4,
 "nbformat_minor": 2
}
